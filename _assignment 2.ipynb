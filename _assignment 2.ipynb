{
 "cells": [
  {
   "cell_type": "markdown",
   "id": "24512bcf-39cd-4ce2-86a6-6511645b9683",
   "metadata": {
    "tags": []
   },
   "source": [
    "# 1.What are the two values of the Boolean data type? How do you write them?"
   ]
  },
  {
   "cell_type": "code",
   "execution_count": null,
   "id": "f3583f80-80d4-4add-b31f-9ffcd4095780",
   "metadata": {},
   "outputs": [],
   "source": [
    "my_boolean_variable = True\n",
    "another_boolean_variable = False\n"
   ]
  },
  {
   "cell_type": "markdown",
   "id": "520b6c90-2305-421b-9d83-6af774ce67a1",
   "metadata": {},
   "source": [
    "## 2. What are the three different types of Boolean operators?"
   ]
  },
  {
   "cell_type": "code",
   "execution_count": null,
   "id": "1afb08fe-31a0-48be-8323-461e241f4879",
   "metadata": {},
   "outputs": [],
   "source": [
    "The three different types of Boolean operators are:\n",
    "\n",
    "AND Operator (and): Returns True if both operands are true.\n",
    "OR Operator (or): Returns True if at least one of the operands is true.\n",
    "NOT Operator (not): Returns the opposite of the operand's Boolean value; if the operand is True, not makes it False, and vice versa.\n"
   ]
  },
  {
   "cell_type": "markdown",
   "id": "03f72b10-a7c6-49e0-9309-700899910100",
   "metadata": {},
   "source": [
    "### 3. Make a list of each Boolean operator&#39;s truth tables (i.e. every possible combination of Boolean\n",
    "values for the operator and what it evaluate )."
   ]
  },
  {
   "cell_type": "code",
   "execution_count": null,
   "id": "56897738-6c1a-4113-a9a9-7390de9fd9cc",
   "metadata": {},
   "outputs": [],
   "source": [
    "AND Operator (and):\n",
    "sql\n",
    "Copy code\n",
    "| A     | B     | A and B |\n",
    "|------|-------|---------|\n",
    "| True  | True  | True    |\n",
    "| True  | False | False   |\n",
    "| False | True  | False   |\n",
    "| False | False | False   |\n",
    "OR Operator (or):\n",
    "sql\n",
    "Copy code\n",
    "| A     | B     | A or B  |\n",
    "|-------|-------|---------|\n",
    "| True  | True  | True    |\n",
    "| True  | False | True    |\n",
    "| False | True  | True    |\n",
    "| False | False | False   |\n",
    "NOT Operator (not):\n",
    "sql\n",
    "Copy code\n",
    "| A     | not A |\n",
    "|-------|-------|\n",
    "| True  | False |\n",
    "| False | True  |\n",
    "In these tables:\n",
    "\n",
    "True represents the Boolean value True.\n",
    "False represents the Boolean value False.\n",
    "A and B are placeholders for Boolean variables or expressions.\n",
    "and, or, and not are the corresponding Boolean operators."
   ]
  },
  {
   "cell_type": "markdown",
   "id": "aef4c47e-c72c-41ff-9e77-a808c9adb130",
   "metadata": {},
   "source": [
    "#### 4. What are the values of the following expressions?\n",
    "(5>4) and (3 == 5)\n",
    "not (5>4)\n",
    "(5>4) or (3 == 5)\n",
    "not ((5>4) or (3 == 5))\n",
    "(True and True) and (True == False)\n",
    "(not False) or (not True)"
   ]
  },
  {
   "cell_type": "code",
   "execution_count": null,
   "id": "ee3705cb-83a7-405c-bf20-d1c4fa52d474",
   "metadata": {},
   "outputs": [],
   "source": [
    "(5 > 4) and (3 == 5):\n",
    "\n",
    "5 > 4 is True.\n",
    "3 == 5 is False.\n",
    "The and operator returns False because both conditions must be True.\n",
    "not (5 > 4):\n",
    "\n",
    "5 > 4 is True.\n",
    "The not operator negates it, so the result is False.\n",
    "(5 > 4) or (3 == 5):\n",
    "\n",
    "5 > 4 is True.\n",
    "The or operator returns True because at least one condition is True.\n",
    "not ((5 > 4) or (3 == 5)):\n",
    "\n",
    "(5 > 4) or (3 == 5) is True.\n",
    "The not operator negates it, so the result is False.\n",
    "(True and True) and (True == False):\n",
    "\n",
    "The inner (True and True) is True.\n",
    "True == False is False.\n",
    "The outer and operator returns False because both conditions must be True.\n",
    "(not False) or (not True):\n",
    "\n",
    "not False is True.\n",
    "not True is False.\n",
    "The or operator returns True because at least one condition is True.\n",
    "So, the values are:\n",
    "\n",
    "False\n",
    "False\n",
    "True\n",
    "False\n",
    "False\n",
    "True"
   ]
  },
  {
   "cell_type": "markdown",
   "id": "a858b430-884a-4a20-a860-94864d08f094",
   "metadata": {},
   "source": [
    "5. What are the six comparison operators? "
   ]
  },
  {
   "cell_type": "code",
   "execution_count": null,
   "id": "297a8355-de19-4e0c-8891-bf8610788c07",
   "metadata": {},
   "outputs": [],
   "source": [
    "The six comparison operators in Python are:\n",
    "\n",
    "Equal to (==): Checks if the values of two operands are equal.\n",
    "\n",
    "Not equal to (!=): Checks if the values of two operands are not equal.\n",
    "\n",
    "Greater than (>): Checks if the value of the left operand is greater than the value of the right operand.\n",
    "\n",
    "Less than (<): Checks if the value of the left operand is less than the value of the right operand.\n",
    "\n",
    "Greater than or equal to (>=): Checks if the value of the left operand is greater than or equal to the value of the right operand.\n",
    "\n",
    "Less than or equal to (<=): Checks if the value of the left operand is less than or equal to the value of the right operand."
   ]
  },
  {
   "cell_type": "markdown",
   "id": "7c917102-8aca-422b-830d-c5e2230f0071",
   "metadata": {},
   "source": [
    "###### 6. How do you tell the difference between the equal to and assignment operators?Describe a\n",
    "condition and when you would use one."
   ]
  },
  {
   "cell_type": "code",
   "execution_count": null,
   "id": "49bdea57-cefd-40ab-b1a5-4eb78693a6d9",
   "metadata": {},
   "outputs": [],
   "source": [
    "In Python, the equal to operator (==) is used for comparison, while the assignment operator (=) is used for assignment. Here's the key difference:\n",
    "\n",
    "Equal to (==): This operator is used to compare the equality of two values. It returns True if the values are equal and False otherwise.\n",
    "\n",
    " \n",
    " \n",
    "x = 5\n",
    "y = 7\n",
    "result = (x == y)  # This will be False\n",
    "Assignment (=): This operator is used to assign a value to a variable.\n",
    "\n",
    " \n",
    "x = 5  # Assigning the value 5 to the variable x\n",
    "To distinguish between the two, look at the context:\n",
    "\n",
    "Use the equal to operator (==) when you want to check if two values are equal in a conditional statement or expression.\n",
    "\n",
    " \n",
    "if x == y:\n",
    "    # Do something if x is equal to y\n",
    "Use the assignment operator (=) when you want to assign a value to a variable.\n",
    "\n",
    " \n",
    "x = 10  # Assigning the value 10 to the variable x"
   ]
  },
  {
   "cell_type": "code",
   "execution_count": null,
   "id": "67ec1f7b-66df-446b-a695-7147d4bef1fd",
   "metadata": {},
   "outputs": [],
   "source": [
    "7. Identify the three blocks in this code:\n",
    "spam = 0\n",
    "if spam == 10:\n",
    "print('eggs')\n",
    "if spam > 5:\n",
    "print('bacon')\n",
    "else:\n",
    "print('ham')\n",
    "print('spam')\n",
    "print('spam')"
   ]
  },
  {
   "cell_type": "code",
   "execution_count": null,
   "id": "20d759b1-6b4f-4a24-9a98-b446045d0520",
   "metadata": {},
   "outputs": [],
   "source": [
    "spam = 0\n",
    "\n",
    "if spam == 10:\n",
    "    print('eggs')\n",
    "\n",
    "if spam > 5:\n",
    "    print('bacon')\n",
    "else:\n",
    "    print('ham')\n",
    "\n",
    "print('spam')\n",
    "print('spam')\n",
    "\n",
    "\n",
    "Block 1:\n",
    "\n",
    " \n",
    "if spam == 10:\n",
    "    print('eggs')\n",
    "This block is associated with the first if statement and will execute the print('eggs') statement if spam is equal to 10.\n",
    "\n",
    "Block 2:\n",
    "\n",
    " \n",
    "    print('bacon')\n",
    "else:\n",
    "    print('ham')\n",
    "This block is associated with the second if statement. If spam is greater than 5, it will execute print('bacon'); otherwise, it will execute print('ham').\n",
    "\n",
    "Block 3:\n",
    " \n",
    "print('spam')\n",
    "print('spam')"
   ]
  },
  {
   "cell_type": "code",
   "execution_count": null,
   "id": "d445fb15-b358-4985-b7e6-f20d1c00cd4f",
   "metadata": {},
   "outputs": [],
   "source": [
    "8. Write code that prints Hello if 1 is stored in spam, prints Howdy if 2 is stored in spam, and prints\n",
    "Greetings! if anything else is stored in spam."
   ]
  },
  {
   "cell_type": "code",
   "execution_count": null,
   "id": "b6dec186-da8e-4b7d-8dc2-78b6e4dcb824",
   "metadata": {},
   "outputs": [],
   "source": [
    "spam =  # Assign a value to spam, such as 1, 2, or any other value\n",
    "\n",
    "if spam == 1:\n",
    "    print('Hello')\n",
    "elif spam == 2:\n",
    "    print('Howdy')\n",
    "else:\n",
    "    print('Greetings!')"
   ]
  },
  {
   "cell_type": "code",
   "execution_count": null,
   "id": "88428fd7-ae62-49ba-b6e5-fc5f716f5a4d",
   "metadata": {},
   "outputs": [],
   "source": [
    "9.If your programme is stuck in an endless loop, what keys you’ll press?"
   ]
  },
  {
   "cell_type": "code",
   "execution_count": null,
   "id": "ff02ee6d-4dcf-49a6-9b99-63d7937b3ea3",
   "metadata": {},
   "outputs": [],
   "source": [
    "Ctrl + C\n",
    "On most systems, this key combination sends an interrupt signal to the running program, causing it to stop. Keep in mind that forcefully interrupting a program might leave it in an inconsistent state"
   ]
  },
  {
   "cell_type": "code",
   "execution_count": null,
   "id": "36b8717e-c3c1-454b-9f46-55a485fd6fde",
   "metadata": {},
   "outputs": [],
   "source": [
    "10. How can you tell the difference between break and continue?"
   ]
  },
  {
   "cell_type": "code",
   "execution_count": null,
   "id": "1476492f-b808-440d-96a6-d094b3fc19e2",
   "metadata": {},
   "outputs": [],
   "source": [
    "break statement:\n",
    "\n",
    "Purpose: It is used to exit a loop prematurely.\n",
    "Usage: When encountered, the loop immediately terminates, and the program continues with the next statement after the loop.\n",
    " \n",
    "for i in range(5):\n",
    "    if i == 3:\n",
    "        break\n",
    "    print(i)\n",
    "Output:\n",
    " \n",
    "0\n",
    "1\n",
    "2\n",
    "continue statement:\n",
    "\n",
    "Purpose: It is used to skip the rest of the code inside a loop for the current iteration and jump to the next iteration.\n",
    "Usage: When encountered, the loop skips the remaining code for the current iteration and moves on to the next iteration.\n",
    "Example:\n",
    " \n",
    "for i in range(5):\n",
    "    if i == 2:\n",
    "        continue\n",
    "    print(i)\n",
    "Output:\n",
    "Copy code\n",
    "0\n",
    "1\n",
    "3\n",
    "4"
   ]
  },
  {
   "cell_type": "code",
   "execution_count": null,
   "id": "044c85b9-a472-4acd-9a69-3d3b2d4ff260",
   "metadata": {},
   "outputs": [],
   "source": [
    "11. In a for loop, what is the difference between range(10), range(0, 10), and range(0, 10, 1)?"
   ]
  },
  {
   "cell_type": "code",
   "execution_count": null,
   "id": "e0d1b894-a334-47e8-b09d-bdf2f8f27dd0",
   "metadata": {},
   "outputs": [],
   "source": [
    "range(10):\n",
    "\n",
    "It generates a sequence of numbers starting from 0 up to (but not including) 10.\n",
    "It's equivalent to range(0, 10, 1) with the default step size of 1.\n",
    "Example:\n",
    "python\n",
    "Copy code\n",
    "for i in range(10):\n",
    "    print(i)\n",
    "Output:\n",
    "python\n",
    "Copy code\n",
    "0\n",
    "1\n",
    "2\n",
    "...\n",
    "9\n",
    "range(0, 10):\n",
    "\n",
    "It specifies the start and end values explicitly, starting from 0 and going up to (but not including) 10.\n",
    "It's equivalent to range(10) with the default start value of 0 and step size of 1.\n",
    "Example:\n",
    "python\n",
    "Copy code\n",
    "for i in range(0, 10):\n",
    "    print(i)\n",
    "Output:\n",
    "python\n",
    "Copy code\n",
    "0\n",
    "1\n",
    "2\n",
    "...\n",
    "9\n",
    "range(0, 10, 1):\n",
    "\n",
    "It explicitly specifies the start, end, and step values. Here, the start is 0, the end is 10, and the step is 1.\n",
    "It's equivalent to range(10) and range(0, 10) with the default step size of 1.\n",
    "Example:\n",
    "python\n",
    "Copy code\n",
    "for i in range(0, 10, 1):\n",
    "    print(i)\n",
    "Output:\n",
    " \n",
    "0\n",
    "1\n",
    "2\n",
    "...\n",
    "9"
   ]
  }
 ],
 "metadata": {
  "kernelspec": {
   "display_name": "Python 3 (ipykernel)",
   "language": "python",
   "name": "python3"
  },
  "language_info": {
   "codemirror_mode": {
    "name": "ipython",
    "version": 3
   },
   "file_extension": ".py",
   "mimetype": "text/x-python",
   "name": "python",
   "nbconvert_exporter": "python",
   "pygments_lexer": "ipython3",
   "version": "3.10.6"
  }
 },
 "nbformat": 4,
 "nbformat_minor": 5
}
